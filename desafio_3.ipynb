{
 "cells": [
  {
   "cell_type": "markdown",
   "id": "2421382c",
   "metadata": {},
   "source": [
    "<img src=\"https://github.com/hernancontigiani/ceia_memorias_especializacion/raw/master/Figures/logoFIUBA.jpg\" width=\"500\" align=\"center\">\n",
    "\n",
    "# Procesamiento de lenguaje natural\n",
    "## Modelo de lenguaje con tokenización por caracteres\n",
    "\n",
    "### Alumno: Mauro Fabián Barquinero"
   ]
  },
  {
   "cell_type": "markdown",
   "id": "7f9189a6",
   "metadata": {},
   "source": [
    "### Consigna\n",
    "- Seleccionar un corpus de texto sobre el cual entrenar el modelo de lenguaje.\n",
    "- Realizar el pre-procesamiento adecuado para tokenizar el corpus, estructurar el dataset y separar entre datos de entrenamiento y validación.\n",
    "- Proponer arquitecturas de redes neuronales basadas en unidades recurrentes para implementar un modelo de lenguaje.\n",
    "- Con el o los modelos que consideren adecuados, generar nuevas secuencias a partir de secuencias de contexto con las estrategias de greedy search y beam search determístico y estocástico. En este último caso observar el efecto de la temperatura en la generación de secuencias.\n",
    "\n",
    "\n",
    "### Sugerencias\n",
    "- Durante el entrenamiento, guiarse por el descenso de la perplejidad en los datos de validación para finalizar el entrenamiento. Para ello se provee un callback.\n",
    "- Explorar utilizar SimpleRNN (celda de Elman), LSTM y GRU.\n",
    "- rmsprop es el optimizador recomendado para la buena convergencia. No obstante se pueden explorar otros."
   ]
  },
  {
   "cell_type": "markdown",
   "id": "5976e172",
   "metadata": {},
   "source": [
    "#### Carga del corpus"
   ]
  },
  {
   "cell_type": "code",
   "execution_count": null,
   "id": "9a088d98",
   "metadata": {},
   "outputs": [
    {
     "name": "stdout",
     "output_type": "stream",
     "text": [
      "WARNING:tensorflow:From c:\\Users\\Usuario\\AppData\\Local\\Programs\\Python\\Python311\\Lib\\site-packages\\keras\\src\\losses.py:2976: The name tf.losses.sparse_softmax_cross_entropy is deprecated. Please use tf.compat.v1.losses.sparse_softmax_cross_entropy instead.\n",
      "\n"
     ]
    }
   ],
   "source": [
    "import numpy as np\n",
    "from sklearn.model_selection import train_test_split\n",
    "import pickle\n",
    "import tensorflow as tf\n",
    "from tensorflow.keras.models import Sequential\n",
    "from tensorflow.keras.layers import Embedding, Dense, SimpleRNN, LSTM, GRU\n",
    "from tensorflow.keras.callbacks import EarlyStopping\n",
    "from tensorflow.keras.utils import to_categorical\n",
    "from tensorflow.keras.optimizers import RMSprop\n",
    "import math\n",
    "import tensorflow.keras.backend as K\n",
    "import matplotlib.pyplot as plt"
   ]
  },
  {
   "cell_type": "code",
   "execution_count": 2,
   "id": "9afa8622",
   "metadata": {},
   "outputs": [
    {
     "name": "stdout",
     "output_type": "stream",
     "text": [
      "En un lugar de la Mancha, de cuyo nombre no quiero acordarme, no ha mucho\n",
      "tiempo que vivía un hidalgo de los de lanza en astillero, adarga antigua,\n",
      "rocín flaco y galgo corredor. Una olla de algo más vaca que carnero,\n",
      "salpicón las más noches, duelos y quebrantos los sábados, lantejas los\n",
      "viernes, algún palomino de añadidura los domingos, consumían las tres\n",
      "partes de su hacienda. El resto della concluían sayo de velarte, calzas de\n",
      "velludo para las fiestas, con sus pantuflos de lo mesmo, y los días de\n",
      "entresemana se honraba con su vellorí de lo más fino. Tenía en su casa una\n",
      "ama que pasaba de los cuarenta, y una sobrina que no llegaba a los veinte,\n",
      "y un mozo de campo y plaza, que así ensillaba el rocín como tomaba la\n",
      "podadera. Frisaba la edad de nuestro hidalgo con los cincuenta años; era de\n",
      "complexión recia, seco de carnes, enjuto de rostro, gran madrugador y amigo\n",
      "de la caza. Quieren decir que tenía el sobrenombre de Quijada, o Quesada,\n",
      "que en esto hay alguna diferencia en los autores q\n",
      "\n",
      "Cantidad total de caracteres: 2071088\n"
     ]
    }
   ],
   "source": [
    "# Paso 1: Cargar el corpus\n",
    "with open(\"dataset/quijote.txt\", \"r\", encoding=\"utf-8\") as file:\n",
    "    texto = file.read()\n",
    "\n",
    "# Mostrar un fragmento del corpus\n",
    "print(texto[:1000])  # Muestra los primeros 1000 caracteres\n",
    "print(f\"\\nCantidad total de caracteres: {len(texto)}\")"
   ]
  },
  {
   "cell_type": "markdown",
   "id": "7b22ceb1",
   "metadata": {},
   "source": [
    "#### Limpieza y normalización del texto"
   ]
  },
  {
   "cell_type": "code",
   "execution_count": 3,
   "id": "a24cb2bf",
   "metadata": {},
   "outputs": [
    {
     "name": "stdout",
     "output_type": "stream",
     "text": [
      "en un lugar de la mancha, de cuyo nombre no quiero acordarme, no ha mucho\n",
      "tiempo que vivía un hidalgo de los de lanza en astillero, adarga antigua,\n",
      "rocín flaco y galgo corredor. una olla de algo más vaca que carnero,\n",
      "salpicón las más noches, duelos y quebrantos los sábados, lantejas los\n",
      "viernes, algún palomino de añadidura los domingos, consumían las tres\n",
      "partes de su hacienda. el resto della concluían sayo de velarte, calzas de\n",
      "velludo para las fiestas, con sus pantuflos de lo mesmo, y los días de\n",
      "entresemana se honraba con su vellorí de lo más fino. tenía en su casa una\n",
      "ama que pasaba de los cuarenta, y una sobrina que no llegaba a los veinte,\n",
      "y un mozo de campo y plaza, que así ensillaba el rocín como tomaba la\n",
      "podadera. frisaba la edad de nuestro hidalgo con los cincuenta años; era de\n",
      "complexión recia, seco de carnes, enjuto de rostro, gran madrugador y amigo\n",
      "de la caza. quieren decir que tenía el sobrenombre de quijada, o quesada,\n",
      "que en esto hay alguna diferencia en los autores q\n"
     ]
    }
   ],
   "source": [
    "# Normalización del texto\n",
    "texto = texto.lower()\n",
    "print(texto[:1000])"
   ]
  },
  {
   "cell_type": "markdown",
   "id": "165fad89",
   "metadata": {},
   "source": [
    "#### Tokenización por caracteres"
   ]
  },
  {
   "cell_type": "code",
   "execution_count": 4,
   "id": "b77761c9",
   "metadata": {},
   "outputs": [
    {
     "name": "stdout",
     "output_type": "stream",
     "text": [
      "Cantidad de caracteres únicos: 61\n",
      "Caracteres únicos:\n",
      "['\\n', ' ', '!', '\"', \"'\", '(', ')', ',', '-', '.', '0', '1', '2', '3', '4', '5', '6', '7', ':', ';', '?', ']', 'a', 'b', 'c', 'd', 'e', 'f', 'g', 'h', 'i', 'j', 'l', 'm', 'n', 'o', 'p', 'q', 'r', 's', 't', 'u', 'v', 'w', 'x', 'y', 'z', '¡', '«', '»', '¿', 'à', 'á', 'é', 'í', 'ï', 'ñ', 'ó', 'ù', 'ú', 'ü']\n"
     ]
    }
   ],
   "source": [
    "# Vocabulario de caracteres\n",
    "chars = sorted(set(texto))\n",
    "print(f\"Cantidad de caracteres únicos: {len(chars)}\")\n",
    "print(f\"Caracteres únicos:\\n{chars}\")"
   ]
  },
  {
   "cell_type": "markdown",
   "id": "9790740b",
   "metadata": {},
   "source": [
    "#### Diccionarios índice-carácter"
   ]
  },
  {
   "cell_type": "code",
   "execution_count": null,
   "id": "cd568f05",
   "metadata": {},
   "outputs": [],
   "source": [
    "# Mapas carácter  - índice e índice - carácter\n",
    "char2idx = {ch: i for i, ch in enumerate(chars)}\n",
    "idx2char = {i: ch for i, ch in enumerate(chars)}"
   ]
  },
  {
   "cell_type": "markdown",
   "id": "3261ef67",
   "metadata": {},
   "source": [
    "#### Conversión del texto a índices"
   ]
  },
  {
   "cell_type": "code",
   "execution_count": 6,
   "id": "657b6bb4",
   "metadata": {},
   "outputs": [
    {
     "name": "stdout",
     "output_type": "stream",
     "text": [
      "Primeros 20 índices del texto codificado:\n",
      "[26, 34, 1, 41, 34, 1, 32, 41, 28, 22, 38, 1, 25, 26, 1, 32, 22, 1, 33, 22]\n"
     ]
    }
   ],
   "source": [
    "# Codificar todo el texto a enteros\n",
    "encoded_text = [char2idx[ch] for ch in texto]\n",
    "print(f\"Primeros 20 índices del texto codificado:\\n{encoded_text[:20]}\")"
   ]
  },
  {
   "cell_type": "markdown",
   "id": "a27ddbd3",
   "metadata": {},
   "source": [
    "### Crear secuencias X, y"
   ]
  },
  {
   "cell_type": "code",
   "execution_count": null,
   "id": "3fdf57e3",
   "metadata": {},
   "outputs": [
    {
     "name": "stdout",
     "output_type": "stream",
     "text": [
      "Cantidad de secuencias generadas: 2070988\n",
      "Forma de X: (2070988, 100), Forma de y: (2070988,)\n"
     ]
    }
   ],
   "source": [
    "seq_length = 100  # longitud de secuencia\n",
    "step = 1          # paso de la ventana deslizante\n",
    "\n",
    "X = []\n",
    "y = []\n",
    "\n",
    "for i in range(0, len(encoded_text) - seq_length, step):\n",
    "    X.append(encoded_text[i:i + seq_length])\n",
    "    y.append(encoded_text[i + seq_length])\n",
    "\n",
    "X = np.array(X)\n",
    "y = np.array(y)\n",
    "\n",
    "print(f\"Cantidad de secuencias generadas: {X.shape[0]}\")\n",
    "print(f\"Forma de X: {X.shape}, Forma de y: {y.shape}\")"
   ]
  },
  {
   "cell_type": "markdown",
   "id": "d0b12352",
   "metadata": {},
   "source": [
    "#### División en entrenamiento y validación"
   ]
  },
  {
   "cell_type": "code",
   "execution_count": null,
   "id": "020997d0",
   "metadata": {},
   "outputs": [
    {
     "name": "stdout",
     "output_type": "stream",
     "text": [
      "Entrenamiento: (1863889, 100), Validación: (207099, 100)\n"
     ]
    }
   ],
   "source": [
    "X_train, X_val, y_train, y_val = train_test_split(X, y, test_size=0.1, random_state=42)\n",
    "\n",
    "print(f\"Entrenamiento: {X_train.shape}, Validación: {X_val.shape}\")"
   ]
  },
  {
   "cell_type": "markdown",
   "id": "f4525c75",
   "metadata": {},
   "source": [
    "#### Se guardan los índices"
   ]
  },
  {
   "cell_type": "code",
   "execution_count": null,
   "id": "19795210",
   "metadata": {},
   "outputs": [],
   "source": [
    "# Guardar char2idx e idx2char para usar en generación\n",
    "with open(\"char2idx.pkl\", \"wb\") as f:\n",
    "    pickle.dump(char2idx, f)\n",
    "\n",
    "with open(\"idx2char.pkl\", \"wb\") as f:\n",
    "    pickle.dump(idx2char, f)"
   ]
  },
  {
   "cell_type": "markdown",
   "id": "17f33faf",
   "metadata": {},
   "source": [
    "----"
   ]
  },
  {
   "cell_type": "markdown",
   "id": "7902f5d8",
   "metadata": {},
   "source": [
    "### ARQUITECTURAS"
   ]
  },
  {
   "cell_type": "code",
   "execution_count": null,
   "id": "22e656e2",
   "metadata": {},
   "outputs": [
    {
     "name": "stdout",
     "output_type": "stream",
     "text": [
      "2.15.0\n",
      "[]\n"
     ]
    }
   ],
   "source": [
    "# Codificar la salida como one-hot\n",
    "y_train_cat = to_categorical(y_train, num_classes=len(char2idx))\n",
    "y_val_cat = to_categorical(y_val, num_classes=len(char2idx))\n",
    "\n",
    "# Definir callback de perplejidad\n",
    "class PerplexityCallback(tf.keras.callbacks.Callback):\n",
    "    def on_epoch_end(self, epoch, logs=None):\n",
    "        ce = logs.get(\"val_loss\")\n",
    "        ppl = math.exp(ce) if ce is not None else float(\"inf\")\n",
    "        print(f\"Perplejidad (val): {ppl:.4f}\")\n",
    "\n",
    "\n",
    "print(tf.__version__)\n",
    "print(tf.config.list_physical_devices('GPU'))"
   ]
  },
  {
   "cell_type": "code",
   "execution_count": null,
   "id": "310caec2",
   "metadata": {},
   "outputs": [
    {
     "name": "stdout",
     "output_type": "stream",
     "text": [
      "WARNING:tensorflow:From c:\\Users\\Usuario\\AppData\\Local\\Programs\\Python\\Python311\\Lib\\site-packages\\keras\\src\\backend.py:873: The name tf.get_default_graph is deprecated. Please use tf.compat.v1.get_default_graph instead.\n",
      "\n",
      "Model: \"sequential\"\n",
      "_________________________________________________________________\n",
      " Layer (type)                Output Shape              Param #   \n",
      "=================================================================\n",
      " embedding (Embedding)       (None, 100, 64)           3904      \n",
      "                                                                 \n",
      " simple_rnn (SimpleRNN)      (None, 128)               24704     \n",
      "                                                                 \n",
      " dense (Dense)               (None, 61)                7869      \n",
      "                                                                 \n",
      "=================================================================\n",
      "Total params: 36477 (142.49 KB)\n",
      "Trainable params: 36477 (142.49 KB)\n",
      "Non-trainable params: 0 (0.00 Byte)\n",
      "_________________________________________________________________\n",
      "Epoch 1/20\n",
      "WARNING:tensorflow:From c:\\Users\\Usuario\\AppData\\Local\\Programs\\Python\\Python311\\Lib\\site-packages\\keras\\src\\utils\\tf_utils.py:492: The name tf.ragged.RaggedTensorValue is deprecated. Please use tf.compat.v1.ragged.RaggedTensorValue instead.\n",
      "\n",
      "WARNING:tensorflow:From c:\\Users\\Usuario\\AppData\\Local\\Programs\\Python\\Python311\\Lib\\site-packages\\keras\\src\\engine\\base_layer_utils.py:384: The name tf.executing_eagerly_outside_functions is deprecated. Please use tf.compat.v1.executing_eagerly_outside_functions instead.\n",
      "\n",
      "14559/14562 [============================>.] - ETA: 0s - loss: 1.7763 - accuracy: 0.4554Perplejidad (val): 5.0312\n",
      "14562/14562 [==============================] - 166s 11ms/step - loss: 1.7763 - accuracy: 0.4554 - val_loss: 1.6157 - val_accuracy: 0.5018\n",
      "Epoch 2/20\n",
      "14560/14562 [============================>.] - ETA: 0s - loss: 1.5647 - accuracy: 0.5155Perplejidad (val): 4.6932\n",
      "14562/14562 [==============================] - 171s 12ms/step - loss: 1.5647 - accuracy: 0.5155 - val_loss: 1.5461 - val_accuracy: 0.5211\n",
      "Epoch 3/20\n",
      "14562/14562 [==============================] - ETA: 0s - loss: 1.5212 - accuracy: 0.5277Perplejidad (val): 4.5646\n",
      "14562/14562 [==============================] - 174s 12ms/step - loss: 1.5212 - accuracy: 0.5277 - val_loss: 1.5183 - val_accuracy: 0.5321\n",
      "Epoch 4/20\n",
      "14559/14562 [============================>.] - ETA: 0s - loss: 1.4999 - accuracy: 0.5335Perplejidad (val): 4.4842\n",
      "14562/14562 [==============================] - 171s 12ms/step - loss: 1.4999 - accuracy: 0.5335 - val_loss: 1.5006 - val_accuracy: 0.5356\n",
      "Epoch 5/20\n",
      "14559/14562 [============================>.] - ETA: 0s - loss: 1.4874 - accuracy: 0.5366Perplejidad (val): 4.4421\n",
      "14562/14562 [==============================] - 165s 11ms/step - loss: 1.4874 - accuracy: 0.5366 - val_loss: 1.4911 - val_accuracy: 0.5374\n",
      "Epoch 6/20\n",
      "14559/14562 [============================>.] - ETA: 0s - loss: 1.4791 - accuracy: 0.5385Perplejidad (val): 4.4208\n",
      "14562/14562 [==============================] - 162s 11ms/step - loss: 1.4791 - accuracy: 0.5385 - val_loss: 1.4863 - val_accuracy: 0.5365\n",
      "Epoch 7/20\n",
      "14561/14562 [============================>.] - ETA: 0s - loss: 1.4728 - accuracy: 0.5404Perplejidad (val): 4.3753\n",
      "14562/14562 [==============================] - 160s 11ms/step - loss: 1.4728 - accuracy: 0.5404 - val_loss: 1.4760 - val_accuracy: 0.5413\n",
      "Epoch 8/20\n",
      "14558/14562 [============================>.] - ETA: 0s - loss: 1.4681 - accuracy: 0.5413Perplejidad (val): 4.3728\n",
      "14562/14562 [==============================] - 157s 11ms/step - loss: 1.4681 - accuracy: 0.5413 - val_loss: 1.4754 - val_accuracy: 0.5418\n",
      "Epoch 9/20\n",
      "14560/14562 [============================>.] - ETA: 0s - loss: 1.4648 - accuracy: 0.5423Perplejidad (val): 4.3672\n",
      "14562/14562 [==============================] - 186s 13ms/step - loss: 1.4647 - accuracy: 0.5423 - val_loss: 1.4741 - val_accuracy: 0.5397\n",
      "Epoch 10/20\n",
      "14561/14562 [============================>.] - ETA: 0s - loss: 1.4615 - accuracy: 0.5430Perplejidad (val): 4.3606\n",
      "14562/14562 [==============================] - 160s 11ms/step - loss: 1.4615 - accuracy: 0.5430 - val_loss: 1.4726 - val_accuracy: 0.5407\n",
      "Epoch 11/20\n",
      "14562/14562 [==============================] - ETA: 0s - loss: 1.4594 - accuracy: 0.5438Perplejidad (val): 4.3532\n",
      "14562/14562 [==============================] - 163s 11ms/step - loss: 1.4594 - accuracy: 0.5438 - val_loss: 1.4709 - val_accuracy: 0.5395\n",
      "Epoch 12/20\n",
      "14561/14562 [============================>.] - ETA: 0s - loss: 1.4578 - accuracy: 0.5443Perplejidad (val): 4.3407\n",
      "14562/14562 [==============================] - 164s 11ms/step - loss: 1.4578 - accuracy: 0.5443 - val_loss: 1.4680 - val_accuracy: 0.5416\n",
      "Epoch 13/20\n",
      "14558/14562 [============================>.] - ETA: 0s - loss: 1.4566 - accuracy: 0.5447Perplejidad (val): 4.3431\n",
      "14562/14562 [==============================] - 171s 12ms/step - loss: 1.4566 - accuracy: 0.5447 - val_loss: 1.4686 - val_accuracy: 0.5417\n",
      "Epoch 14/20\n",
      "14562/14562 [==============================] - ETA: 0s - loss: 1.4552 - accuracy: 0.5451Perplejidad (val): 4.3307\n",
      "14562/14562 [==============================] - 172s 12ms/step - loss: 1.4552 - accuracy: 0.5451 - val_loss: 1.4657 - val_accuracy: 0.5448\n",
      "Epoch 15/20\n",
      "14560/14562 [============================>.] - ETA: 0s - loss: 1.4540 - accuracy: 0.5452Perplejidad (val): 4.3331\n",
      "14562/14562 [==============================] - 165s 11ms/step - loss: 1.4540 - accuracy: 0.5452 - val_loss: 1.4663 - val_accuracy: 0.5443\n",
      "Epoch 16/20\n",
      "14558/14562 [============================>.] - ETA: 0s - loss: 1.4533 - accuracy: 0.5455Perplejidad (val): 4.3401\n",
      "14562/14562 [==============================] - 165s 11ms/step - loss: 1.4532 - accuracy: 0.5455 - val_loss: 1.4679 - val_accuracy: 0.5437\n",
      "Epoch 17/20\n",
      "14560/14562 [============================>.] - ETA: 0s - loss: 1.4530 - accuracy: 0.5451Perplejidad (val): 4.3180\n",
      "14562/14562 [==============================] - 167s 11ms/step - loss: 1.4530 - accuracy: 0.5451 - val_loss: 1.4628 - val_accuracy: 0.5443\n",
      "Epoch 18/20\n",
      "14559/14562 [============================>.] - ETA: 0s - loss: 1.4518 - accuracy: 0.5454Perplejidad (val): 4.3271\n",
      "14562/14562 [==============================] - 176s 12ms/step - loss: 1.4518 - accuracy: 0.5454 - val_loss: 1.4649 - val_accuracy: 0.5435\n",
      "Epoch 19/20\n",
      "14558/14562 [============================>.] - ETA: 0s - loss: 1.4519 - accuracy: 0.5454Perplejidad (val): 4.3384\n",
      "14562/14562 [==============================] - 177s 12ms/step - loss: 1.4519 - accuracy: 0.5454 - val_loss: 1.4675 - val_accuracy: 0.5429\n",
      "Epoch 20/20\n",
      "14559/14562 [============================>.] - ETA: 0s - loss: 1.4512 - accuracy: 0.5458Perplejidad (val): 4.3266\n",
      "14562/14562 [==============================] - 174s 12ms/step - loss: 1.4512 - accuracy: 0.5458 - val_loss: 1.4648 - val_accuracy: 0.5430\n"
     ]
    }
   ],
   "source": [
    "# Modelo 1 – SimpleRNN\n",
    "def build_simplernn_model():\n",
    "    model = Sequential([\n",
    "        Embedding(input_dim=len(char2idx), output_dim=64, input_length=seq_length),\n",
    "        SimpleRNN(128),\n",
    "        Dense(len(char2idx), activation='softmax')\n",
    "    ])\n",
    "    model.compile(loss='categorical_crossentropy',\n",
    "                  optimizer=RMSprop(),\n",
    "                  metrics=['accuracy'])\n",
    "    return model\n",
    "\n",
    "rnn_model = build_simplernn_model()\n",
    "rnn_model.summary()\n",
    "\n",
    "# Entrenamiento\n",
    "history_rnn = rnn_model.fit(X_train, y_train_cat,\n",
    "                            validation_data=(X_val, y_val_cat),\n",
    "                            batch_size=128,\n",
    "                            epochs=20,\n",
    "                            callbacks=[EarlyStopping(monitor='val_loss', patience=3, restore_best_weights=True),\n",
    "                                       PerplexityCallback()])"
   ]
  },
  {
   "cell_type": "code",
   "execution_count": 12,
   "id": "1143cd81",
   "metadata": {},
   "outputs": [
    {
     "name": "stdout",
     "output_type": "stream",
     "text": [
      "Model: \"sequential_1\"\n",
      "_________________________________________________________________\n",
      " Layer (type)                Output Shape              Param #   \n",
      "=================================================================\n",
      " embedding_1 (Embedding)     (None, 100, 64)           3904      \n",
      "                                                                 \n",
      " lstm (LSTM)                 (None, 128)               98816     \n",
      "                                                                 \n",
      " dense_1 (Dense)             (None, 61)                7869      \n",
      "                                                                 \n",
      "=================================================================\n",
      "Total params: 110589 (431.99 KB)\n",
      "Trainable params: 110589 (431.99 KB)\n",
      "Non-trainable params: 0 (0.00 Byte)\n",
      "_________________________________________________________________\n",
      "Epoch 1/20\n",
      "14561/14562 [============================>.] - ETA: 0s - loss: 1.8383 - accuracy: 0.4363Perplejidad (val): 5.0050\n",
      "14562/14562 [==============================] - 663s 46ms/step - loss: 1.8382 - accuracy: 0.4363 - val_loss: 1.6104 - val_accuracy: 0.5036\n",
      "Epoch 2/20\n",
      "14561/14562 [============================>.] - ETA: 0s - loss: 1.5310 - accuracy: 0.5253Perplejidad (val): 4.4182\n",
      "14562/14562 [==============================] - 616s 42ms/step - loss: 1.5309 - accuracy: 0.5253 - val_loss: 1.4857 - val_accuracy: 0.5386\n",
      "Epoch 3/20\n",
      "14562/14562 [==============================] - ETA: 0s - loss: 1.4501 - accuracy: 0.5489Perplejidad (val): 4.2166\n",
      "14562/14562 [==============================] - 601s 41ms/step - loss: 1.4501 - accuracy: 0.5489 - val_loss: 1.4390 - val_accuracy: 0.5524\n",
      "Epoch 4/20\n",
      "14562/14562 [==============================] - ETA: 0s - loss: 1.4095 - accuracy: 0.5608Perplejidad (val): 4.0726\n",
      "14562/14562 [==============================] - 561s 39ms/step - loss: 1.4095 - accuracy: 0.5608 - val_loss: 1.4043 - val_accuracy: 0.5633\n",
      "Epoch 5/20\n",
      "14561/14562 [============================>.] - ETA: 0s - loss: 1.3840 - accuracy: 0.5680Perplejidad (val): 4.0133\n",
      "14562/14562 [==============================] - 561s 39ms/step - loss: 1.3840 - accuracy: 0.5680 - val_loss: 1.3896 - val_accuracy: 0.5677\n",
      "Epoch 6/20\n",
      "14562/14562 [==============================] - ETA: 0s - loss: 1.3665 - accuracy: 0.5731Perplejidad (val): 3.9505\n",
      "14562/14562 [==============================] - 566s 39ms/step - loss: 1.3665 - accuracy: 0.5731 - val_loss: 1.3738 - val_accuracy: 0.5718\n",
      "Epoch 7/20\n",
      "14561/14562 [============================>.] - ETA: 0s - loss: 1.3541 - accuracy: 0.5763Perplejidad (val): 3.9271\n",
      "14562/14562 [==============================] - 563s 39ms/step - loss: 1.3541 - accuracy: 0.5764 - val_loss: 1.3679 - val_accuracy: 0.5743\n",
      "Epoch 8/20\n",
      "14561/14562 [============================>.] - ETA: 0s - loss: 1.3447 - accuracy: 0.5792Perplejidad (val): 3.9035\n",
      "14562/14562 [==============================] - 567s 39ms/step - loss: 1.3447 - accuracy: 0.5792 - val_loss: 1.3619 - val_accuracy: 0.5754\n",
      "Epoch 9/20\n",
      "14561/14562 [============================>.] - ETA: 0s - loss: 1.3329 - accuracy: 0.5801Perplejidad (val): 3.8680\n",
      "14562/14562 [==============================] - 625s 43ms/step - loss: 1.3329 - accuracy: 0.5801 - val_loss: 1.3527 - val_accuracy: 0.5772\n",
      "Epoch 10/20\n",
      "14561/14562 [============================>.] - ETA: 0s - loss: 1.3207 - accuracy: 0.5823Perplejidad (val): 3.8446\n",
      "14562/14562 [==============================] - 751s 52ms/step - loss: 1.3207 - accuracy: 0.5823 - val_loss: 1.3467 - val_accuracy: 0.5779\n",
      "Epoch 11/20\n",
      "14561/14562 [============================>.] - ETA: 0s - loss: 1.3129 - accuracy: 0.5845Perplejidad (val): 3.7988\n",
      "14562/14562 [==============================] - 751s 52ms/step - loss: 1.3129 - accuracy: 0.5845 - val_loss: 1.3347 - val_accuracy: 0.5827\n",
      "Epoch 12/20\n",
      "14562/14562 [==============================] - ETA: 0s - loss: 1.3084 - accuracy: 0.5863Perplejidad (val): 3.8375\n",
      "14562/14562 [==============================] - 731s 50ms/step - loss: 1.3084 - accuracy: 0.5863 - val_loss: 1.3448 - val_accuracy: 0.5812\n",
      "Epoch 13/20\n",
      "14561/14562 [============================>.] - ETA: 0s - loss: 1.3057 - accuracy: 0.5871Perplejidad (val): 3.7820\n",
      "14562/14562 [==============================] - 730s 50ms/step - loss: 1.3057 - accuracy: 0.5871 - val_loss: 1.3303 - val_accuracy: 0.5831\n",
      "Epoch 14/20\n",
      "14561/14562 [============================>.] - ETA: 0s - loss: 1.3040 - accuracy: 0.5877Perplejidad (val): 3.7981\n",
      "14562/14562 [==============================] - 759s 52ms/step - loss: 1.3040 - accuracy: 0.5877 - val_loss: 1.3345 - val_accuracy: 0.5819\n",
      "Epoch 15/20\n",
      "14562/14562 [==============================] - ETA: 0s - loss: 1.3029 - accuracy: 0.5884Perplejidad (val): 3.7832\n",
      "14562/14562 [==============================] - 746s 51ms/step - loss: 1.3029 - accuracy: 0.5884 - val_loss: 1.3306 - val_accuracy: 0.5850\n",
      "Epoch 16/20\n",
      "14562/14562 [==============================] - ETA: 0s - loss: 1.3017 - accuracy: 0.5889Perplejidad (val): 3.7919\n",
      "14562/14562 [==============================] - 753s 52ms/step - loss: 1.3017 - accuracy: 0.5889 - val_loss: 1.3329 - val_accuracy: 0.5834\n"
     ]
    }
   ],
   "source": [
    "# Modelo 2 – LSTM\n",
    "def build_lstm_model():\n",
    "    model = Sequential([\n",
    "        Embedding(input_dim=len(char2idx), output_dim=64, input_length=seq_length),\n",
    "        LSTM(128),\n",
    "        Dense(len(char2idx), activation='softmax')\n",
    "    ])\n",
    "    model.compile(loss='categorical_crossentropy',\n",
    "                  optimizer=RMSprop(),\n",
    "                  metrics=['accuracy'])\n",
    "    return model\n",
    "\n",
    "lstm_model = build_lstm_model()\n",
    "lstm_model.summary()\n",
    "\n",
    "# Entrenamiento\n",
    "history_lstm = lstm_model.fit(X_train, y_train_cat,\n",
    "                              validation_data=(X_val, y_val_cat),\n",
    "                              batch_size=128,\n",
    "                              epochs=20,\n",
    "                              callbacks=[EarlyStopping(monitor='val_loss', patience=3, restore_best_weights=True),\n",
    "                                         PerplexityCallback()])"
   ]
  },
  {
   "cell_type": "code",
   "execution_count": 13,
   "id": "7ee676c5",
   "metadata": {},
   "outputs": [
    {
     "name": "stdout",
     "output_type": "stream",
     "text": [
      "Model: \"sequential_2\"\n",
      "_________________________________________________________________\n",
      " Layer (type)                Output Shape              Param #   \n",
      "=================================================================\n",
      " embedding_2 (Embedding)     (None, 100, 64)           3904      \n",
      "                                                                 \n",
      " gru (GRU)                   (None, 128)               74496     \n",
      "                                                                 \n",
      " dense_2 (Dense)             (None, 61)                7869      \n",
      "                                                                 \n",
      "=================================================================\n",
      "Total params: 86269 (336.99 KB)\n",
      "Trainable params: 86269 (336.99 KB)\n",
      "Non-trainable params: 0 (0.00 Byte)\n",
      "_________________________________________________________________\n",
      "Epoch 1/20\n",
      "14561/14562 [============================>.] - ETA: 0s - loss: 1.7070 - accuracy: 0.4757Perplejidad (val): 4.5044\n",
      "14562/14562 [==============================] - 551s 38ms/step - loss: 1.7070 - accuracy: 0.4757 - val_loss: 1.5051 - val_accuracy: 0.5350\n",
      "Epoch 2/20\n",
      "14562/14562 [==============================] - ETA: 0s - loss: 1.4580 - accuracy: 0.5470Perplejidad (val): 4.2106\n",
      "14562/14562 [==============================] - 567s 39ms/step - loss: 1.4580 - accuracy: 0.5470 - val_loss: 1.4376 - val_accuracy: 0.5545\n",
      "Epoch 3/20\n",
      "14562/14562 [==============================] - ETA: 0s - loss: 1.4103 - accuracy: 0.5601Perplejidad (val): 4.1125\n",
      "14562/14562 [==============================] - 565s 39ms/step - loss: 1.4103 - accuracy: 0.5601 - val_loss: 1.4140 - val_accuracy: 0.5590\n",
      "Epoch 4/20\n",
      "14561/14562 [============================>.] - ETA: 0s - loss: 1.3879 - accuracy: 0.5658Perplejidad (val): 4.0449\n",
      "14562/14562 [==============================] - 525s 36ms/step - loss: 1.3879 - accuracy: 0.5658 - val_loss: 1.3975 - val_accuracy: 0.5648\n",
      "Epoch 5/20\n",
      "14561/14562 [============================>.] - ETA: 0s - loss: 1.3745 - accuracy: 0.5694Perplejidad (val): 4.0080\n",
      "14562/14562 [==============================] - 528s 36ms/step - loss: 1.3745 - accuracy: 0.5694 - val_loss: 1.3883 - val_accuracy: 0.5662\n",
      "Epoch 6/20\n",
      "14561/14562 [============================>.] - ETA: 0s - loss: 1.3645 - accuracy: 0.5721Perplejidad (val): 3.9542\n",
      "14562/14562 [==============================] - 530s 36ms/step - loss: 1.3645 - accuracy: 0.5721 - val_loss: 1.3748 - val_accuracy: 0.5705\n",
      "Epoch 7/20\n",
      "14561/14562 [============================>.] - ETA: 0s - loss: 1.3576 - accuracy: 0.5735Perplejidad (val): 3.9552\n",
      "14562/14562 [==============================] - 535s 37ms/step - loss: 1.3576 - accuracy: 0.5735 - val_loss: 1.3750 - val_accuracy: 0.5700\n",
      "Epoch 8/20\n",
      "14561/14562 [============================>.] - ETA: 0s - loss: 1.3518 - accuracy: 0.5754Perplejidad (val): 3.9363\n",
      "14562/14562 [==============================] - 541s 37ms/step - loss: 1.3518 - accuracy: 0.5754 - val_loss: 1.3702 - val_accuracy: 0.5723\n",
      "Epoch 9/20\n",
      "14561/14562 [============================>.] - ETA: 0s - loss: 1.3479 - accuracy: 0.5764Perplejidad (val): 3.9405\n",
      "14562/14562 [==============================] - 540s 37ms/step - loss: 1.3479 - accuracy: 0.5764 - val_loss: 1.3713 - val_accuracy: 0.5703\n",
      "Epoch 10/20\n",
      "14561/14562 [============================>.] - ETA: 0s - loss: 1.3445 - accuracy: 0.5775Perplejidad (val): 3.9398\n",
      "14562/14562 [==============================] - 547s 38ms/step - loss: 1.3445 - accuracy: 0.5775 - val_loss: 1.3711 - val_accuracy: 0.5719\n",
      "Epoch 11/20\n",
      "14561/14562 [============================>.] - ETA: 0s - loss: 1.3417 - accuracy: 0.5780Perplejidad (val): 3.9021\n",
      "14562/14562 [==============================] - 545s 37ms/step - loss: 1.3417 - accuracy: 0.5780 - val_loss: 1.3615 - val_accuracy: 0.5747\n",
      "Epoch 12/20\n",
      "14561/14562 [============================>.] - ETA: 0s - loss: 1.3393 - accuracy: 0.5788Perplejidad (val): 3.9179\n",
      "14562/14562 [==============================] - 540s 37ms/step - loss: 1.3394 - accuracy: 0.5788 - val_loss: 1.3656 - val_accuracy: 0.5710\n",
      "Epoch 13/20\n",
      "14562/14562 [==============================] - ETA: 0s - loss: 1.3373 - accuracy: 0.5790Perplejidad (val): 3.8954\n",
      "14562/14562 [==============================] - 544s 37ms/step - loss: 1.3373 - accuracy: 0.5790 - val_loss: 1.3598 - val_accuracy: 0.5752\n",
      "Epoch 14/20\n",
      "14561/14562 [============================>.] - ETA: 0s - loss: 1.3355 - accuracy: 0.5794Perplejidad (val): 3.8871\n",
      "14562/14562 [==============================] - 546s 38ms/step - loss: 1.3355 - accuracy: 0.5794 - val_loss: 1.3577 - val_accuracy: 0.5751\n",
      "Epoch 15/20\n",
      "14561/14562 [============================>.] - ETA: 0s - loss: 1.3333 - accuracy: 0.5802Perplejidad (val): 3.8958\n",
      "14562/14562 [==============================] - 550s 38ms/step - loss: 1.3333 - accuracy: 0.5802 - val_loss: 1.3599 - val_accuracy: 0.5747\n",
      "Epoch 16/20\n",
      "14562/14562 [==============================] - ETA: 0s - loss: 1.3327 - accuracy: 0.5801Perplejidad (val): 3.8891\n",
      "14562/14562 [==============================] - 551s 38ms/step - loss: 1.3327 - accuracy: 0.5801 - val_loss: 1.3582 - val_accuracy: 0.5742\n",
      "Epoch 17/20\n",
      "14562/14562 [==============================] - ETA: 0s - loss: 1.3318 - accuracy: 0.5803Perplejidad (val): 3.8779\n",
      "14562/14562 [==============================] - 552s 38ms/step - loss: 1.3318 - accuracy: 0.5803 - val_loss: 1.3553 - val_accuracy: 0.5765\n",
      "Epoch 18/20\n",
      "14561/14562 [============================>.] - ETA: 0s - loss: 1.3304 - accuracy: 0.5807Perplejidad (val): 3.8741\n",
      "14562/14562 [==============================] - 553s 38ms/step - loss: 1.3304 - accuracy: 0.5807 - val_loss: 1.3543 - val_accuracy: 0.5769\n",
      "Epoch 19/20\n",
      "14562/14562 [==============================] - ETA: 0s - loss: 1.3299 - accuracy: 0.5809Perplejidad (val): 3.8890\n",
      "14562/14562 [==============================] - 556s 38ms/step - loss: 1.3299 - accuracy: 0.5809 - val_loss: 1.3581 - val_accuracy: 0.5751\n",
      "Epoch 20/20\n",
      "14561/14562 [============================>.] - ETA: 0s - loss: 1.3287 - accuracy: 0.5813Perplejidad (val): 3.8809\n",
      "14562/14562 [==============================] - 558s 38ms/step - loss: 1.3286 - accuracy: 0.5813 - val_loss: 1.3561 - val_accuracy: 0.5752\n"
     ]
    }
   ],
   "source": [
    "# Modelo 3 – GRU\n",
    "def build_gru_model():\n",
    "    model = Sequential([\n",
    "        Embedding(input_dim=len(char2idx), output_dim=64, input_length=seq_length),\n",
    "        GRU(128),\n",
    "        Dense(len(char2idx), activation='softmax')\n",
    "    ])\n",
    "    model.compile(loss='categorical_crossentropy',\n",
    "                  optimizer=RMSprop(),\n",
    "                  metrics=['accuracy'])\n",
    "    return model\n",
    "\n",
    "gru_model = build_gru_model()\n",
    "gru_model.summary()\n",
    "\n",
    "# Entrenamiento\n",
    "history_gru = gru_model.fit(X_train, y_train_cat,\n",
    "                            validation_data=(X_val, y_val_cat),\n",
    "                            batch_size=128,\n",
    "                            epochs=20,\n",
    "                            callbacks=[EarlyStopping(monitor='val_loss', patience=3, restore_best_weights=True),\n",
    "                                       PerplexityCallback()])"
   ]
  },
  {
   "cell_type": "code",
   "execution_count": null,
   "id": "fc7034d4",
   "metadata": {},
   "outputs": [],
   "source": [
    "class PerplexityCallback(tf.keras.callbacks.Callback):\n",
    "    def on_epoch_end(self, epoch, logs=None):\n",
    "        ce = logs.get(\"val_loss\")\n",
    "        ppl = math.exp(ce) if ce is not None else float(\"inf\")\n",
    "        print(f\" Perplejidad (val): {ppl:.4f}\")"
   ]
  },
  {
   "cell_type": "code",
   "execution_count": null,
   "id": "02ca2628",
   "metadata": {},
   "outputs": [],
   "source": [
    "def compute_perplexity(losses):\n",
    "    return [math.exp(l) for l in losses]"
   ]
  },
  {
   "cell_type": "markdown",
   "id": "af0e75a0",
   "metadata": {},
   "source": [
    "#### Graficar curvas de pérdida (loss + val_loss)"
   ]
  },
  {
   "cell_type": "code",
   "execution_count": 16,
   "id": "1768da2d",
   "metadata": {},
   "outputs": [],
   "source": [
    "def plot_losses(histories, labels):\n",
    "    plt.figure(figsize=(10,6))\n",
    "    for history, label in zip(histories, labels):\n",
    "        plt.plot(history.history['loss'], label=f'{label} - Train Loss')\n",
    "        plt.plot(history.history['val_loss'], label=f'{label} - Val Loss', linestyle='--')\n",
    "    \n",
    "    plt.title('Evolución de la pérdida por época')\n",
    "    plt.xlabel('Épocas')\n",
    "    plt.ylabel('Loss')\n",
    "    plt.legend()\n",
    "    plt.grid(True)\n",
    "    plt.show()"
   ]
  },
  {
   "cell_type": "markdown",
   "id": "b274bffe",
   "metadata": {},
   "source": [
    "#### Graficar curvas de perplejidad en validación"
   ]
  },
  {
   "cell_type": "code",
   "execution_count": 17,
   "id": "2bb62474",
   "metadata": {},
   "outputs": [],
   "source": [
    "def plot_perplexities(histories, labels):\n",
    "    plt.figure(figsize=(10,6))\n",
    "    for history, label in zip(histories, labels):\n",
    "        val_losses = history.history['val_loss']\n",
    "        val_ppl = compute_perplexity(val_losses)\n",
    "        plt.plot(val_ppl, label=f'{label} - Val Perplexity')\n",
    "    \n",
    "    plt.title('Perplejidad en validación por época')\n",
    "    plt.xlabel('Épocas')\n",
    "    plt.ylabel('Perplejidad')\n",
    "    plt.legend()\n",
    "    plt.grid(True)\n",
    "    plt.show()"
   ]
  },
  {
   "cell_type": "code",
   "execution_count": 18,
   "id": "3697db25",
   "metadata": {},
   "outputs": [
    {
     "data": {
      "image/png": "[encoded data removed]",
      "text/plain": [
       "<Figure size 1000x600 with 1 Axes>"
      ]
     },
     "metadata": {},
     "output_type": "display_data"
    },
    {
     "data": {
      "image/png": "[encoded data removed]",
      "text/plain": [
       "<Figure size 1000x600 with 1 Axes>"
      ]
     },
     "metadata": {},
     "output_type": "display_data"
    }
   ],
   "source": [
    "histories = [history_rnn, history_lstm, history_gru]\n",
    "labels = [\"SimpleRNN\", \"LSTM\", \"GRU\"]\n",
    "\n",
    "# Gráficas\n",
    "plot_losses(histories, labels)\n",
    "plot_perplexities(histories, labels)\n"
   ]
  },
  {
   "cell_type": "markdown",
   "id": "bd2db88c",
   "metadata": {},
   "source": [
    "## Análisis de resultados\n",
    "\n",
    "### 1. Evolución de la pérdida (`loss`)\n",
    "\n",
    "- **SimpleRNN** mostró una convergencia más lenta y una menor capacidad de reducción de la pérdida tanto en entrenamiento como en validación.\n",
    "- **LSTM y GRU** demostraron una mayor capacidad de modelado secuencial, con pérdidas finales más bajas.\n",
    "- La pérdida de validación fue más estable y baja en los modelos con memoria (LSTM/GRU), indicando mejor generalización.\n",
    "\n",
    "### 2. Perplejidad\n",
    "\n",
    "- La **perplejidad en validación** se redujo significativamente en los tres modelos.\n",
    "- **LSTM** alcanzó la **perplejidad más baja** (~3.77), seguido de cerca por **GRU** (~3.87), mientras que **SimpleRNN** se mantuvo por encima de 4.3.\n",
    "- Estos resultados reflejan una mayor capacidad de **LSTM y GRU** para modelar dependencias de largo plazo en el lenguaje.\n"
   ]
  },
  {
   "cell_type": "code",
   "execution_count": 19,
   "id": "7a454fcb",
   "metadata": {},
   "outputs": [],
   "source": [
    "# Diccionarios útiles\n",
    "idx2char = {idx: char for char, idx in char2idx.items()}\n",
    "\n",
    "# Función para convertir un string a secuencia de índices\n",
    "def text_to_seq(text, char2idx):\n",
    "    return [char2idx.get(c, 0) for c in text]\n",
    "\n",
    "# Función para convertir secuencia de índices a string\n",
    "def seq_to_text(seq, idx2char):\n",
    "    return ''.join([idx2char[i] for i in seq])"
   ]
  },
  {
   "cell_type": "markdown",
   "id": "83665b6d",
   "metadata": {},
   "source": [
    "#### Greedy Search"
   ]
  },
  {
   "cell_type": "code",
   "execution_count": 20,
   "id": "e84f8ce1",
   "metadata": {},
   "outputs": [],
   "source": [
    "def generate_greedy(model, seed_text, gen_length=200):\n",
    "    input_seq = text_to_seq(seed_text[-seq_length:], char2idx)\n",
    "    generated = seed_text\n",
    "\n",
    "    for _ in range(gen_length):\n",
    "        padded_input = tf.keras.preprocessing.sequence.pad_sequences([input_seq], maxlen=seq_length)\n",
    "        pred = model.predict(padded_input, verbose=0)[0]\n",
    "        next_char_idx = np.argmax(pred)\n",
    "        next_char = idx2char[next_char_idx]\n",
    "        generated += next_char\n",
    "        input_seq = input_seq[1:] + [next_char_idx]\n",
    "\n",
    "    return generated"
   ]
  },
  {
   "cell_type": "code",
   "execution_count": 21,
   "id": "f9775e4e",
   "metadata": {},
   "outputs": [
    {
     "name": "stdout",
     "output_type": "stream",
     "text": [
      "En un lugar de la Manchar esto, señor don quijote del mundo, señor don quijote que se levantaba esto es esto, señor ver el cura es el cura esto es esto, señor ver el cura es el cura esto es esto, señor ver el cura es el cura esto es esto, señor ver el cura es el cura esto es esto, señor ver el cura es el cura esto es esto,\n"
     ]
    }
   ],
   "source": [
    "print(generate_greedy(lstm_model, seed_text=\"En un lugar de la Mancha\", gen_length=300))"
   ]
  },
  {
   "cell_type": "markdown",
   "id": "b8af7877",
   "metadata": {},
   "source": [
    "### Análisis\n",
    "- El texto es gramaticalmente correcto, pero muestra un alto nivel de repetición.\n",
    "- La falta de exploración en los siguientes caracteres lleva al modelo a caer en bucles cortos y reiterativos (e.g., \"esto es esto\", \"el cura es el cura\").\n",
    "- Esto es típico de greedy search, debido a que siempre elige el carácter más probable, sin explorar variaciones."
   ]
  },
  {
   "cell_type": "markdown",
   "id": "cbb4aa81",
   "metadata": {},
   "source": [
    "#### Sampling estocástico con temperatura"
   ]
  },
  {
   "cell_type": "code",
   "execution_count": 22,
   "id": "86e97264",
   "metadata": {},
   "outputs": [],
   "source": [
    "def sample_with_temperature(preds, temperature=1.0):\n",
    "    preds = np.asarray(preds).astype(\"float64\")\n",
    "    preds = np.log(preds + 1e-10) / temperature\n",
    "    exp_preds = np.exp(preds)\n",
    "    preds = exp_preds / np.sum(exp_preds)\n",
    "    return np.random.choice(len(preds), p=preds)\n",
    "\n",
    "def generate_with_temperature(model, seed_text, gen_length=200, temperature=1.0):\n",
    "    input_seq = text_to_seq(seed_text[-seq_length:], char2idx)\n",
    "    generated = seed_text\n",
    "\n",
    "    for _ in range(gen_length):\n",
    "        padded_input = tf.keras.preprocessing.sequence.pad_sequences([input_seq], maxlen=seq_length)\n",
    "        preds = model.predict(padded_input, verbose=0)[0]\n",
    "        next_char_idx = sample_with_temperature(preds, temperature)\n",
    "        next_char = idx2char[next_char_idx]\n",
    "        generated += next_char\n",
    "        input_seq = input_seq[1:] + [next_char_idx]\n",
    "\n",
    "    return generated"
   ]
  },
  {
   "cell_type": "code",
   "execution_count": 23,
   "id": "0a05211b",
   "metadata": {},
   "outputs": [
    {
     "name": "stdout",
     "output_type": "stream",
     "text": [
      "En un lugar de la Manchar es pedir bien esta de todos lo que lo dejaría me habéis prestos estoy buena fuerza me quedaron sancho, es tener\n",
      "esta amigo maravilla, señor don quijote don quijote se ha siendo en ahora lo es esto respondió la alcanza sancho, esto replicó\n",
      "sancho, pues, sancho antes por señala, señor ver a su prome\n",
      "En un lugar de la Mancha y no quiera que los del tus burno, movido es uequese es el prometer fuera respondió quiero quiero vellería su contario, señor roto, señor, abo campo dos maldiciesa, sancho, no es digo que los tan gastofices que la acerva,\n",
      "   de los acometidos y sancho -respante el de la noche tiene respondí allí no\n",
      "En un lugar de la Manchar rírloeres, y\n",
      "en otras vayas bien era anda éstinas será, sancho\n",
      "púbnlola, señor, vuesa mercedas más, amigoso pasajeas hace fuerza don quere, verde paz,\n",
      "buena.\n",
      "-réte; y a engendría -replicó te-fe\n",
      "micible desosamosnais, que nuncto sancho púbre. leveníar diligarme la ozadas, ellana faje;\n",
      "señor vino le\n"
     ]
    }
   ],
   "source": [
    "print(generate_with_temperature(lstm_model, seed_text=\"En un lugar de la Mancha\", gen_length=300, temperature=0.5))\n",
    "print(generate_with_temperature(lstm_model, seed_text=\"En un lugar de la Mancha\", gen_length=300, temperature=1.0))\n",
    "print(generate_with_temperature(lstm_model, seed_text=\"En un lugar de la Mancha\", gen_length=300, temperature=1.5))"
   ]
  },
  {
   "cell_type": "markdown",
   "id": "2f7138de",
   "metadata": {},
   "source": [
    "### Análisis\n",
    "- Con temperaturas bajas (0.5), el texto mantiene coherencia gramatical con algunas variaciones creativas.\n",
    "- Con temperatura media (1.0), hay más diversidad, pero se pierde un poco la estructura gramatical.\n",
    "- Con temperatura alta (1.5), el texto se vuelve casi ininteligible y caótico, con palabras inventadas o incoherentes.\n",
    "\n",
    " Conclusión: La temperatura es un control de aleatoriedad que permite balancear entre coherencia y creatividad. Los mejores resultados se obtuvieron en temperatura 0.5–1.0."
   ]
  },
  {
   "cell_type": "markdown",
   "id": "e4c505d0",
   "metadata": {},
   "source": [
    "#### Beam Search determinístico"
   ]
  },
  {
   "cell_type": "code",
   "execution_count": 24,
   "id": "90ca2fc2",
   "metadata": {},
   "outputs": [],
   "source": [
    "def generate_beam_search(model, seed_text, gen_length=200, beam_width=3):\n",
    "    input_seq = text_to_seq(seed_text[-seq_length:], char2idx)\n",
    "    input_seq = input_seq[-seq_length:]\n",
    "    sequences = [(input_seq, 0.0, seed_text)]\n",
    "\n",
    "    for _ in range(gen_length):\n",
    "        all_candidates = []\n",
    "        for seq, score, text in sequences:\n",
    "            padded_input = tf.keras.preprocessing.sequence.pad_sequences([seq], maxlen=seq_length)\n",
    "            preds = model.predict(padded_input, verbose=0)[0]\n",
    "            top_indices = np.argsort(preds)[-beam_width:]\n",
    "\n",
    "            for i in top_indices:\n",
    "                candidate_seq = seq[1:] + [i]\n",
    "                candidate_score = score - np.log(preds[i] + 1e-10)\n",
    "                candidate_text = text + idx2char[i]\n",
    "                all_candidates.append((candidate_seq, candidate_score, candidate_text))\n",
    "\n",
    "        sequences = sorted(all_candidates, key=lambda tup: tup[1])[:beam_width]\n",
    "\n",
    "    return sequences[0][2]  # Best sequence"
   ]
  },
  {
   "cell_type": "code",
   "execution_count": 25,
   "id": "a2a965b3",
   "metadata": {},
   "outputs": [
    {
     "name": "stdout",
     "output_type": "stream",
     "text": [
      "En un lugar de la Manchar esto, señor don quijote, señor don quijote, señor don quijote, señor don quijote, señor don quijote, señor don quijote, señor don quijote, señor don quijote, señor don quijote, señor don quijote, señor don quijote, señor don quijote, señor don quijote, señor don quijote, señor don quijote, señor, \n"
     ]
    }
   ],
   "source": [
    "print(generate_beam_search(lstm_model, seed_text=\"En un lugar de la Mancha\", gen_length=300, beam_width=3))"
   ]
  },
  {
   "cell_type": "markdown",
   "id": "cdde0252",
   "metadata": {},
   "source": [
    "### Análisis:\n",
    "\n",
    "- Similar al Greedy Search pero amplificado: selecciona las secuencias más probables pero con baja diversidad.\n",
    "- Termina en bucles deterministas, lo cual revela que el modelo prioriza demasiado ciertas transiciones frecuentes como \"señor don quijote\".\n",
    "\n",
    "Conclusión: El método beam search determinístico falla en diversidad textual cuando no se incorpora aleatoriedad."
   ]
  },
  {
   "cell_type": "markdown",
   "id": "1108015e",
   "metadata": {},
   "source": [
    "---"
   ]
  },
  {
   "cell_type": "markdown",
   "id": "8c665761",
   "metadata": {},
   "source": [
    "### CONCLUSIONES FINALES\n",
    "- GRU y LSTM demostraron mejor capacidad para capturar estructuras de lenguaje.\n",
    "\n",
    "- La perplejidad fue útil como métrica para cuantificar el avance del entrenamiento.\n",
    "\n",
    "- Las estrategias de generación mostraron la naturaleza exploratoria vs determinista de cada método:\n",
    "\n",
    "  - Greedy: fiable pero repetitivo.\n",
    "\n",
    "  - Beam Search: similar, con más memoria, pero igualmente limitado.\n",
    "\n",
    "  - Sampling con temperatura: mejor balance creatividad/coherencia.\n",
    "  \n",
    "El desafío permitió explorar de forma completa un pipeline de modelado de lenguaje carácter a carácter. Se implementaron diferentes arquitecturas y se aplicaron correctamente técnicas modernas de inferencia generativa. El modelo final tiene capacidad de generar texto con estilo y estructura similar al corpus original."
   ]
  }
 ],
 "metadata": {
  "kernelspec": {
   "display_name": "Python 3",
   "language": "python",
   "name": "python3"
  },
  "language_info": {
   "codemirror_mode": {
    "name": "ipython",
    "version": 3
   },
   "file_extension": ".py",
   "mimetype": "text/x-python",
   "name": "python",
   "nbconvert_exporter": "python",
   "pygments_lexer": "ipython3",
   "version": "3.11.0"
  }
 },
 "nbformat": 4,
 "nbformat_minor": 5
}
